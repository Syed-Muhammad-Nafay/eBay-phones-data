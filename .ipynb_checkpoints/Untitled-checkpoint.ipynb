{
 "cells": [
  {
   "cell_type": "code",
   "execution_count": 17,
   "id": "62b16bef-3831-42c5-8c32-6dea175a0eaf",
   "metadata": {},
   "outputs": [],
   "source": [
    "import numpy as np\n",
    "import pandas as pd\n",
    "import matplotlib.pyplot as plt"
   ]
  },
  {
   "cell_type": "code",
   "execution_count": 2,
   "id": "7b8c8bd3-ee74-432d-bacc-a86ded621ec0",
   "metadata": {},
   "outputs": [],
   "source": [
    "df = pd.read_csv('clean_phones.csv')"
   ]
  },
  {
   "cell_type": "code",
   "execution_count": null,
   "id": "da6ca369-2001-47af-8438-a4422de24b52",
   "metadata": {},
   "outputs": [],
   "source": [
    "df.head()"
   ]
  },
  {
   "cell_type": "markdown",
   "id": "5e46547e-f8fd-4187-b32e-d5f6f2d57f19",
   "metadata": {},
   "source": [
    "### Possible insights that can be found Samsung.\n",
    "#### Does the models have something common:\n",
    "Some phones have a series like 'the S series' for samsung is very popular.\n",
    "#### IF yes what patteren can we draw as a price point of view:\n",
    "We will aim to find which models or series is expensive or cheaper which could further be investigated seperatly.\n",
    "#### Are some contries supplying more phone that others and if yes is there any price diffrence or difference in delivery charges:\n",
    "Initially i think contries near the data collection point will have cheaper delivery."
   ]
  },
  {
   "cell_type": "code",
   "execution_count": 5,
   "id": "29f15742-d1e0-4fa0-96f8-ea70c371c52c",
   "metadata": {},
   "outputs": [
    {
     "data": {
      "text/plain": [
       "array(['s22', 's9', 'a52', 'a53', 's20', 'a23', 'a14', 'a41', 'a40',\n",
       "       'a21', 'a35', 'a55', 'a33', 'a32', 'a42', 'a54', 'a71', 'a15',\n",
       "       'a51', 'a16', 'a50', 'a22', 'xcover', 'note', 'a13', 's23'],\n",
       "      dtype=object)"
      ]
     },
     "execution_count": 5,
     "metadata": {},
     "output_type": "execute_result"
    }
   ],
   "source": [
    "df[(df['Brands']=='samsung')]['Models'].unique()"
   ]
  },
  {
   "cell_type": "markdown",
   "id": "6afcb2a7-6a57-4165-8915-9f0cbb2ae91a",
   "metadata": {},
   "source": [
    "There is the 'S' series and the 'A' series along with the 'xcover' and the 'note' models\n"
   ]
  },
  {
   "cell_type": "code",
   "execution_count": 6,
   "id": "4be52ea5-1c7d-4887-81ae-c1c5d3fb5ebc",
   "metadata": {},
   "outputs": [],
   "source": [
    "df['series'] = None\n",
    "models = ['s', 'a', 'xcover', 'note']\n",
    "for i in models:\n",
    "    df.loc[df['Models'].str.contains(i, case=False, na=False), 'series'] = i"
   ]
  },
  {
   "cell_type": "code",
   "execution_count": 14,
   "id": "95d7e9b7-0637-48e2-9c4c-9ab7ce02c2b3",
   "metadata": {},
   "outputs": [
    {
     "data": {
      "text/html": [
       "<div>\n",
       "<style scoped>\n",
       "    .dataframe tbody tr th:only-of-type {\n",
       "        vertical-align: middle;\n",
       "    }\n",
       "\n",
       "    .dataframe tbody tr th {\n",
       "        vertical-align: top;\n",
       "    }\n",
       "\n",
       "    .dataframe thead th {\n",
       "        text-align: right;\n",
       "    }\n",
       "</style>\n",
       "<table border=\"1\" class=\"dataframe\">\n",
       "  <thead>\n",
       "    <tr style=\"text-align: right;\">\n",
       "      <th></th>\n",
       "      <th>series</th>\n",
       "      <th>count</th>\n",
       "    </tr>\n",
       "  </thead>\n",
       "  <tbody>\n",
       "    <tr>\n",
       "      <th>0</th>\n",
       "      <td>s</td>\n",
       "      <td>441</td>\n",
       "    </tr>\n",
       "    <tr>\n",
       "      <th>1</th>\n",
       "      <td>a</td>\n",
       "      <td>399</td>\n",
       "    </tr>\n",
       "    <tr>\n",
       "      <th>2</th>\n",
       "      <td>xcover</td>\n",
       "      <td>6</td>\n",
       "    </tr>\n",
       "    <tr>\n",
       "      <th>3</th>\n",
       "      <td>note</td>\n",
       "      <td>3</td>\n",
       "    </tr>\n",
       "  </tbody>\n",
       "</table>\n",
       "</div>"
      ],
      "text/plain": [
       "   series  count\n",
       "0       s    441\n",
       "1       a    399\n",
       "2  xcover      6\n",
       "3    note      3"
      ]
     },
     "execution_count": 14,
     "metadata": {},
     "output_type": "execute_result"
    }
   ],
   "source": [
    "samsung_model_count = df[df['Brands'] == 'samsung']['series'].value_counts().reset_index()\n",
    "samsung_model_count"
   ]
  },
  {
   "cell_type": "code",
   "execution_count": 18,
   "id": "5b4c8153-98a0-4c3c-ad15-a77ed7200978",
   "metadata": {},
   "outputs": [
    {
     "data": {
      "text/plain": [
       "<BarContainer object of 4 artists>"
      ]
     },
     "execution_count": 18,
     "metadata": {},
     "output_type": "execute_result"
    },
    {
     "data": {
      "image/png": "[encoded data removed]",
      "text/plain": [
       "<Figure size 640x480 with 1 Axes>"
      ]
     },
     "metadata": {},
     "output_type": "display_data"
    }
   ],
   "source": [
    "plt.bar(samsung_model_count['series'], samsung_model_count['count'])"
   ]
  },
  {
   "cell_type": "code",
   "execution_count": null,
   "id": "83a00042-a1be-493e-95b8-e425e7db80ee",
   "metadata": {},
   "outputs": [],
   "source": [
    "np.linspace"
   ]
  }
 ],
 "metadata": {
  "kernelspec": {
   "display_name": "Python 3 (ipykernel)",
   "language": "python",
   "name": "python3"
  },
  "language_info": {
   "codemirror_mode": {
    "name": "ipython",
    "version": 3
   },
   "file_extension": ".py",
   "mimetype": "text/x-python",
   "name": "python",
   "nbconvert_exporter": "python",
   "pygments_lexer": "ipython3",
   "version": "3.12.4"
  }
 },
 "nbformat": 4,
 "nbformat_minor": 5
}
